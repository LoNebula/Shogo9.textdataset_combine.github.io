{
 "cells": [
  {
   "cell_type": "code",
   "execution_count": 2,
   "metadata": {},
   "outputs": [],
   "source": [
    "import os\n",
    "\n",
    "def combine_text_files(input_folder, output_file):\n",
    "    # 出力ファイルを開く\n",
    "    with open(output_file, 'w', encoding='utf-8') as outfile:\n",
    "        # フォルダ内の全ファイルをチェック\n",
    "        for filename in os.listdir(input_folder):\n",
    "            # テキストファイルのみを対象にする\n",
    "            if filename.endswith('.txt'):\n",
    "                file_path = os.path.join(input_folder, filename)\n",
    "                # ファイルを開いて内容を読み取る\n",
    "                with open(file_path, 'r', encoding='utf-8') as infile:\n",
    "                    contents = infile.read()\n",
    "                    outfile.write(contents + '\\n')  # 内容を書き込む（改行を追加）\n",
    "\n",
    "input_folder = 'Transformer/dataset/business'  # 入力フォルダのパス\n",
    "output_file = 'Transformer/dataset/business/business_combined.txt'  # 出力ファイルのパス\n",
    "\n",
    "combine_text_files(input_folder, output_file)\n"
   ]
  }
 ],
 "metadata": {
  "kernelspec": {
   "display_name": "stand",
   "language": "python",
   "name": "python3"
  },
  "language_info": {
   "codemirror_mode": {
    "name": "ipython",
    "version": 3
   },
   "file_extension": ".py",
   "mimetype": "text/x-python",
   "name": "python",
   "nbconvert_exporter": "python",
   "pygments_lexer": "ipython3",
   "version": "3.10.13"
  }
 },
 "nbformat": 4,
 "nbformat_minor": 2
}
